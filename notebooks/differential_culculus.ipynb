{
 "cells": [
  {
   "cell_type": "markdown",
   "metadata": {},
   "source": [
    "# Differential calculus "
   ]
  },
  {
   "cell_type": "code",
   "execution_count": 1,
   "metadata": {},
   "outputs": [],
   "source": [
    "from sympy import Symbol\n",
    "from sympy.core.containers import Tuple\n",
    "from sympy import symbols\n",
    "from sympy import IndexedBase\n",
    "from sympy import Matrix\n",
    "from sympy import Function\n",
    "from sympy import pi, cos, sin\n",
    "from sympy import srepr\n",
    "from sympy import expand\n",
    "from sympy import Function\n",
    "from sympy import Integer, Float, Rational\n",
    "from sympy.physics.quantum import TensorProduct\n",
    "\n",
    "from sympde.core import Constant\n",
    "from sympde.calculus import grad, dot, inner, outer, cross, rot, curl, div\n",
    "from sympde.calculus import laplace, hessian, bracket, convect, D, conv\n",
    "from sympde.calculus import ArgumentTypeError\n",
    "from sympde.calculus import jump, avg, Dn, minus, plus\n",
    "from sympde.topology import Domain\n",
    "from sympde.topology import ScalarFunctionSpace, VectorFunctionSpace\n",
    "from sympde.topology import ProductSpace\n",
    "from sympde.topology import H1Space, HcurlSpace, HdivSpace, L2Space, UndefinedSpace\n",
    "from sympde.topology import TestFunction, ScalarTestFunction, VectorTestFunction\n",
    "from sympde.topology import ScalarField, VectorField\n",
    "from sympde.topology import element_of, elements_of"
   ]
  },
  {
   "cell_type": "code",
   "execution_count": 3,
   "metadata": {},
   "outputs": [],
   "source": [
    "domain = Domain('Omega', dim=3)\n",
    "\n",
    "V = ScalarFunctionSpace('V', domain)\n",
    "W = VectorFunctionSpace('W', domain)\n",
    "\n",
    "alpha, beta, gamma = [Constant(i) for i in ['alpha','beta','gamma']]\n",
    "\n",
    "f,g,h = [element_of(V, name=i) for i in ['f','g','h']]\n",
    "F,G,H = [element_of(W, i) for i in ['F','G','H']]"
   ]
  },
  {
   "cell_type": "markdown",
   "metadata": {},
   "source": [
    "### Gradient properties"
   ]
  },
  {
   "cell_type": "markdown",
   "metadata": {},
   "source": [
    "$ \\nabla (f+g) = \\nabla f + \\nabla g $\n",
    "\n",
    "$ \\nabla (\\alpha f) = \\alpha \\nabla f$\n",
    "\n",
    "$ \\nabla (\\alpha f+ \\beta g) = \\alpha \\nabla f + \\beta \\nabla g $\n",
    "\n",
    "$ \\nabla (fg) = f\\nabla g + g\\nabla f $\n",
    "\n",
    "$ \\nabla (\\frac{f}{g}) = -\\frac{f}{g^2} \\nabla g + \\frac{1}{g} \\nabla f$"
   ]
  },
  {
   "cell_type": "code",
   "execution_count": 4,
   "metadata": {},
   "outputs": [],
   "source": [
    "assert( grad(f+g) == grad(f) + grad(g) )\n",
    "assert( grad(alpha*f) == alpha*grad(f) )\n",
    "assert( grad(alpha*f + beta*g) == alpha*grad(f) + beta*grad(g)  )\n",
    "\n",
    "assert( grad(f*g) == f*grad(g) + g*grad(f) )\n",
    "assert( grad(f/g) == -f*grad(g)/g**2 + grad(f)/g )\n",
    "\n",
    "assert( expand(grad(f*g*h)) == f*g*grad(h) + f*h*grad(g) + g*h*grad(f) )"
   ]
  },
  {
   "cell_type": "markdown",
   "metadata": {},
   "source": [
    "### Curl properties"
   ]
  },
  {
   "cell_type": "code",
   "execution_count": 5,
   "metadata": {},
   "outputs": [],
   "source": [
    "assert( curl(F+G) == curl(F) + curl(G) )\n",
    "assert( curl(alpha*F) == alpha*curl(F) )\n",
    "assert( curl(alpha*F + beta*G) == alpha*curl(F) + beta*curl(G)  )\n",
    "\n",
    "assert( curl(cross(F,G)) == F*div(G) - G*div(F) - convect(F, G) + convect(G, F) )\n",
    "assert( curl(f*F) == f*curl(F) + cross(grad(f), F) )"
   ]
  },
  {
   "cell_type": "markdown",
   "metadata": {},
   "source": [
    "### Laplace properties"
   ]
  },
  {
   "cell_type": "code",
   "execution_count": 6,
   "metadata": {},
   "outputs": [],
   "source": [
    "assert( laplace(f+g) == laplace(f) + laplace(g) )\n",
    "assert( laplace(alpha*f) == alpha*laplace(f) )\n",
    "assert( laplace(alpha*f + beta*g) == alpha*laplace(f) + beta*laplace(g)  )\n",
    "assert( laplace(f*g) == f*laplace(g) + g*laplace(f) + 2*dot(grad(f), grad(g)) )"
   ]
  },
  {
   "cell_type": "markdown",
   "metadata": {},
   "source": [
    "### Divergence properties"
   ]
  },
  {
   "cell_type": "code",
   "execution_count": 7,
   "metadata": {},
   "outputs": [],
   "source": [
    "assert( div(F+G) == div(F) + div(G) )\n",
    "assert( div(alpha*F) == alpha*div(F) )\n",
    "assert( div(alpha*F + beta*G) == alpha*div(F) + beta*div(G)  )\n",
    "\n",
    "assert( div(cross(F,G)) == -dot(F, curl(G)) + dot(G, curl(F)) )\n",
    "assert( div(f*F) == f*div(F) + dot(F, grad(f)))"
   ]
  },
  {
   "cell_type": "markdown",
   "metadata": {},
   "source": [
    "### Other properties"
   ]
  },
  {
   "cell_type": "code",
   "execution_count": 8,
   "metadata": {},
   "outputs": [],
   "source": [
    "assert( curl(grad(f)) == 0 )\n",
    "assert( div(curl(F)) == 0 )\n",
    "assert( div(cross(grad(f), grad(g))) == 0 )\n",
    "assert( curl(curl(F)) == grad(div(F)) - laplace(F))\n",
    "assert( curl(f*grad(g)) == cross(grad(f), grad(g)) )"
   ]
  },
  {
   "cell_type": "code",
   "execution_count": null,
   "metadata": {},
   "outputs": [],
   "source": []
  }
 ],
 "metadata": {
  "kernelspec": {
   "display_name": "Python 3",
   "language": "python",
   "name": "python3"
  },
  "language_info": {
   "codemirror_mode": {
    "name": "ipython",
    "version": 3
   },
   "file_extension": ".py",
   "mimetype": "text/x-python",
   "name": "python",
   "nbconvert_exporter": "python",
   "pygments_lexer": "ipython3",
   "version": "3.6.8"
  }
 },
 "nbformat": 4,
 "nbformat_minor": 2
}
