{
 "cells": [
  {
   "cell_type": "code",
   "execution_count": 22,
   "metadata": {},
   "outputs": [],
   "source": [
    "from IPython.display import Math\n",
    "\n",
    "from sympy import Symbol\n",
    "from sympy.core.containers import Tuple\n",
    "from sympy import pi, cos, sin, exp\n",
    "from sympy import expand\n",
    "\n",
    "from sympde.core import Constant\n",
    "from sympde.calculus import grad, dot, inner, outer, cross, rot, curl, div\n",
    "from sympde.calculus import laplace, hessian, bracket, convect, D, conv\n",
    "from sympde.calculus import ArgumentTypeError\n",
    "from sympde.calculus import jump, avg, Dn, minus, plus\n",
    "from sympde.topology import Domain, Boundary\n",
    "from sympde.topology import ScalarFunctionSpace, VectorFunctionSpace\n",
    "from sympde.topology import ProductSpace\n",
    "from sympde.topology import H1Space, HcurlSpace, HdivSpace, L2Space, UndefinedSpace\n",
    "from sympde.topology import TestFunction, ScalarTestFunction, VectorTestFunction\n",
    "from sympde.topology import ScalarField, VectorField\n",
    "from sympde.topology import element_of, elements_of\n",
    "from sympde.expr     import LinearForm\n",
    "from sympde.expr     import integral\n",
    "from sympde.expr     import linearize\n",
    "from sympde.printing.latex import latex"
   ]
  },
  {
   "cell_type": "markdown",
   "metadata": {},
   "source": [
    "# Nonlinear problems"
   ]
  },
  {
   "cell_type": "markdown",
   "metadata": {},
   "source": [
    "### Nonlinear poisson"
   ]
  },
  {
   "cell_type": "markdown",
   "metadata": {},
   "source": [
    "Let us consider the weak formulation $l(v)=0$, where\n",
    "\n",
    "\\begin{align}\n",
    "  l(v) = \\int_{\\Omega} \\nabla u \\cdot \\nabla v + e^{-u}v ~d\\Omega \n",
    "  \\label{eq:nonlinear-example-wf}\n",
    "\\end{align}\n",
    "\n",
    "The linearization of such a linear form means that we replace $u$ by an expansion $u + \\epsilon \\delta u$ then we compute the Taylor expansion with respect to $\\epsilon$.\n",
    "The linearisation leads to the construction of a bilinear form that has arguments $\\left( \\delta u, v \\right)$, as shown in the follozing Python code:"
   ]
  },
  {
   "cell_type": "code",
   "execution_count": 24,
   "metadata": {},
   "outputs": [],
   "source": [
    "domain = Domain('Omega', dim=2)\n",
    "Gamma_N = Boundary('Gamma_N', domain.interior)\n",
    "x,y = domain.coordinates\n",
    "\n",
    "V = ScalarFunctionSpace('V', domain)\n",
    "\n",
    "u, du,v = elements_of(V, names='u, delta_u, v')\n",
    "\n",
    "int_0 = lambda expr: integral(domain, expr)\n",
    "\n",
    "expr = int_0(dot(grad(v), grad(u)) -4.*exp(-u)*v) \n",
    "l = LinearForm(v, expr )"
   ]
  },
  {
   "cell_type": "code",
   "execution_count": 26,
   "metadata": {},
   "outputs": [],
   "source": [
    "# linearising l around u, using du\n",
    "a = linearize(l, u, trials=du)"
   ]
  },
  {
   "cell_type": "code",
   "execution_count": 27,
   "metadata": {},
   "outputs": [
    {
     "data": {
      "text/latex": [
       "$\\displaystyle \\left( \\delta_{u}, v \\right) \\mapsto \\int_{\\Omega} 4.0 \\delta_{u} v e^{- u} ~d\\mathbf{x} + \\int_{\\Omega} \\nabla{\\delta_{u}} \\cdot \\nabla{v} ~d\\mathbf{x}$"
      ],
      "text/plain": [
       "<IPython.core.display.Math object>"
      ]
     },
     "execution_count": 27,
     "metadata": {},
     "output_type": "execute_result"
    }
   ],
   "source": [
    "Math(latex(a))"
   ]
  },
  {
   "cell_type": "code",
   "execution_count": null,
   "metadata": {},
   "outputs": [],
   "source": []
  }
 ],
 "metadata": {
  "kernelspec": {
   "display_name": "Python 3",
   "language": "python",
   "name": "python3"
  },
  "language_info": {
   "codemirror_mode": {
    "name": "ipython",
    "version": 3
   },
   "file_extension": ".py",
   "mimetype": "text/x-python",
   "name": "python",
   "nbconvert_exporter": "python",
   "pygments_lexer": "ipython3",
   "version": "3.6.8"
  }
 },
 "nbformat": 4,
 "nbformat_minor": 2
}
