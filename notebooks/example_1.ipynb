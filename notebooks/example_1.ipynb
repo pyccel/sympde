{
 "cells": [
  {
   "cell_type": "code",
   "execution_count": 31,
   "metadata": {},
   "outputs": [],
   "source": [
    "# some imports\n",
    "from sympy import sin, cos, pi\n",
    "\n",
    "from sympde.core import Constant\n",
    "from sympde.calculus import grad, dot, inner, cross, rot, curl, div\n",
    "\n",
    "from sympde.topology import (dx, dy, dz)\n",
    "from sympde.topology import ScalarFunctionSpace, VectorFunctionSpace\n",
    "from sympde.topology import ScalarField, VectorField\n",
    "from sympde.topology import ProductSpace\n",
    "from sympde.topology import Domain\n",
    "from sympde.topology import element_of\n",
    "from sympde.expr import BilinearForm, LinearForm"
   ]
  },
  {
   "cell_type": "code",
   "execution_count": 32,
   "metadata": {},
   "outputs": [],
   "source": [
    "DIM = 2\n",
    "domain = Domain('Omega', dim=DIM)"
   ]
  },
  {
   "cell_type": "code",
   "execution_count": 33,
   "metadata": {},
   "outputs": [],
   "source": [
    "V = ScalarFunctionSpace('V', domain)"
   ]
  },
  {
   "cell_type": "code",
   "execution_count": 34,
   "metadata": {},
   "outputs": [],
   "source": [
    "v = element_of(V, name='v')\n",
    "u = element_of(V, name='u')"
   ]
  },
  {
   "cell_type": "code",
   "execution_count": 35,
   "metadata": {},
   "outputs": [],
   "source": [
    "a = BilinearForm((v,u), dot(grad(v), grad(u)))"
   ]
  },
  {
   "cell_type": "code",
   "execution_count": 36,
   "metadata": {},
   "outputs": [],
   "source": [
    "from sympde.printing.latex import latex"
   ]
  },
  {
   "cell_type": "code",
   "execution_count": 37,
   "metadata": {},
   "outputs": [],
   "source": [
    "from IPython.display import Math"
   ]
  },
  {
   "cell_type": "code",
   "execution_count": 38,
   "metadata": {},
   "outputs": [
    {
     "data": {
      "text/latex": [
       "$\\displaystyle \\int_{Omega} \\operatorname{DomainIntegral}{\\left (\\nabla{u} \\cdot \\nabla{v} \\right )} $"
      ],
      "text/plain": [
       "<IPython.core.display.Math object>"
      ]
     },
     "execution_count": 38,
     "metadata": {},
     "output_type": "execute_result"
    }
   ],
   "source": [
    "Math(latex(a))"
   ]
  },
  {
   "cell_type": "code",
   "execution_count": null,
   "metadata": {},
   "outputs": [],
   "source": []
  }
 ],
 "metadata": {
  "kernelspec": {
   "display_name": "Python 3",
   "language": "python",
   "name": "python3"
  },
  "language_info": {
   "codemirror_mode": {
    "name": "ipython",
    "version": 3
   },
   "file_extension": ".py",
   "mimetype": "text/x-python",
   "name": "python",
   "nbconvert_exporter": "python",
   "pygments_lexer": "ipython3",
   "version": "3.6.8"
  }
 },
 "nbformat": 4,
 "nbformat_minor": 2
}
