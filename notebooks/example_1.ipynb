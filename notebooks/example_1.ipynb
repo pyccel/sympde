{
 "cells": [
  {
   "cell_type": "code",
   "execution_count": 1,
   "metadata": {},
   "outputs": [],
   "source": [
    "# some imports\n",
    "from IPython.display import Math\n",
    "from sympy import sin, cos, pi\n",
    "from sympy.abc import x,y\n",
    "\n",
    "from sympde.core import Constant\n",
    "from sympde.calculus import grad, dot, inner, cross, rot, curl, div\n",
    "from sympde.calculus import laplace, hessian, bracket, D, conv\n",
    "from sympde.calculus import jump, avg, minus, plus, Dn\n",
    "\n",
    "from sympde.topology import (dx, dy, dz)\n",
    "from sympde.topology import ScalarFunctionSpace, VectorFunctionSpace\n",
    "from sympde.topology import ScalarField, VectorField\n",
    "from sympde.topology import ProductSpace\n",
    "from sympde.topology import Domain, Square\n",
    "from sympde.topology import element_of, elements_of\n",
    "from sympde.expr import BilinearForm, LinearForm, integral, find\n",
    "from sympde.expr import TerminalExpr\n",
    "from sympde.printing.latex import latex"
   ]
  },
  {
   "cell_type": "code",
   "execution_count": 2,
   "metadata": {},
   "outputs": [],
   "source": [
    "DIM = 2\n",
    "domain = Domain('Omega', dim=DIM)"
   ]
  },
  {
   "cell_type": "code",
   "execution_count": 3,
   "metadata": {},
   "outputs": [],
   "source": [
    "domain = Square('Omega')"
   ]
  },
  {
   "cell_type": "code",
   "execution_count": 4,
   "metadata": {},
   "outputs": [],
   "source": [
    "V = ScalarFunctionSpace('V', domain)"
   ]
  },
  {
   "cell_type": "code",
   "execution_count": 5,
   "metadata": {},
   "outputs": [],
   "source": [
    "v = element_of(V, name='v')\n",
    "u = element_of(V, name='u')"
   ]
  },
  {
   "cell_type": "code",
   "execution_count": 6,
   "metadata": {},
   "outputs": [],
   "source": [
    "a = BilinearForm((v,u), integral(domain, dot(grad(v), grad(u))))"
   ]
  },
  {
   "cell_type": "code",
   "execution_count": 7,
   "metadata": {},
   "outputs": [
    {
     "data": {
      "text/latex": [
       "$\\displaystyle \\left( v, u \\right) \\mapsto \\int_{\\Omega} \\nabla{u} \\cdot \\nabla{v} ~d\\mathbf{x}$"
      ],
      "text/plain": [
       "<IPython.core.display.Math object>"
      ]
     },
     "execution_count": 7,
     "metadata": {},
     "output_type": "execute_result"
    }
   ],
   "source": [
    "Math(latex(a))"
   ]
  },
  {
   "cell_type": "code",
   "execution_count": 8,
   "metadata": {},
   "outputs": [],
   "source": [
    "b = LinearForm(v, integral(domain, cos(x+y)*v))"
   ]
  },
  {
   "cell_type": "code",
   "execution_count": 9,
   "metadata": {},
   "outputs": [
    {
     "data": {
      "text/latex": [
       "$\\displaystyle v \\mapsto \\int_{\\Omega} v \\cos{\\left (x + y \\right )} ~d\\mathbf{x}$"
      ],
      "text/plain": [
       "<IPython.core.display.Math object>"
      ]
     },
     "execution_count": 9,
     "metadata": {},
     "output_type": "execute_result"
    }
   ],
   "source": [
    "Math(latex(b))"
   ]
  },
  {
   "cell_type": "code",
   "execution_count": 10,
   "metadata": {},
   "outputs": [
    {
     "data": {
      "text/latex": [
       "$\\displaystyle [\\![ u ]\\!]$"
      ],
      "text/plain": [
       "<IPython.core.display.Math object>"
      ]
     },
     "execution_count": 10,
     "metadata": {},
     "output_type": "execute_result"
    }
   ],
   "source": [
    "Math(latex(jump(u)))"
   ]
  },
  {
   "cell_type": "code",
   "execution_count": 11,
   "metadata": {},
   "outputs": [
    {
     "data": {
      "text/latex": [
       "$\\displaystyle \\{ u \\}$"
      ],
      "text/plain": [
       "<IPython.core.display.Math object>"
      ]
     },
     "execution_count": 11,
     "metadata": {},
     "output_type": "execute_result"
    }
   ],
   "source": [
    "Math(latex(avg(u)))"
   ]
  },
  {
   "cell_type": "code",
   "execution_count": 12,
   "metadata": {},
   "outputs": [
    {
     "data": {
      "text/latex": [
       "$\\displaystyle u_{-}$"
      ],
      "text/plain": [
       "<IPython.core.display.Math object>"
      ]
     },
     "execution_count": 12,
     "metadata": {},
     "output_type": "execute_result"
    }
   ],
   "source": [
    "Math(latex(minus(u)))"
   ]
  },
  {
   "cell_type": "code",
   "execution_count": 13,
   "metadata": {},
   "outputs": [
    {
     "data": {
      "text/latex": [
       "$\\displaystyle \\nabla u \\cdot \\mathbf{n}$"
      ],
      "text/plain": [
       "<IPython.core.display.Math object>"
      ]
     },
     "execution_count": 13,
     "metadata": {},
     "output_type": "execute_result"
    }
   ],
   "source": [
    "Math(latex(Dn(u)))"
   ]
  },
  {
   "cell_type": "code",
   "execution_count": 14,
   "metadata": {},
   "outputs": [
    {
     "data": {
      "text/latex": [
       "$\\displaystyle [\\![ \\nabla u \\cdot \\mathbf{n} ]\\!]$"
      ],
      "text/plain": [
       "<IPython.core.display.Math object>"
      ]
     },
     "execution_count": 14,
     "metadata": {},
     "output_type": "execute_result"
    }
   ],
   "source": [
    "Math(latex(jump(Dn(u))))"
   ]
  },
  {
   "cell_type": "code",
   "execution_count": 15,
   "metadata": {},
   "outputs": [
    {
     "data": {
      "text/latex": [
       "$\\displaystyle \\nabla{u_{-}} \\cdot \\mathbf{n}_{-}$"
      ],
      "text/plain": [
       "<IPython.core.display.Math object>"
      ]
     },
     "execution_count": 15,
     "metadata": {},
     "output_type": "execute_result"
    }
   ],
   "source": [
    "Math(latex(minus(Dn(u))))"
   ]
  },
  {
   "cell_type": "code",
   "execution_count": 16,
   "metadata": {},
   "outputs": [
    {
     "data": {
      "text/latex": [
       "$\\displaystyle \\nabla{u_{+}} \\cdot \\mathbf{n}_{+}$"
      ],
      "text/plain": [
       "<IPython.core.display.Math object>"
      ]
     },
     "execution_count": 16,
     "metadata": {},
     "output_type": "execute_result"
    }
   ],
   "source": [
    "Math(latex(plus(Dn(u))))"
   ]
  },
  {
   "cell_type": "code",
   "execution_count": 17,
   "metadata": {},
   "outputs": [],
   "source": [
    "a = BilinearForm((v,u), integral(domain, dot(grad(v), grad(u)) + jump(u)*avg(v) - avg(u)*jump(v)))"
   ]
  },
  {
   "cell_type": "code",
   "execution_count": 18,
   "metadata": {},
   "outputs": [
    {
     "data": {
      "text/latex": [
       "$\\displaystyle \\left( v, u \\right) \\mapsto \\int_{\\Omega} - \\{ u \\} [\\![ v ]\\!] ~d\\mathbf{x} + \\int_{\\Omega} \\{ v \\} [\\![ u ]\\!] ~d\\mathbf{x} + \\int_{\\Omega} \\nabla{u} \\cdot \\nabla{v} ~d\\mathbf{x}$"
      ],
      "text/plain": [
       "<IPython.core.display.Math object>"
      ]
     },
     "execution_count": 18,
     "metadata": {},
     "output_type": "execute_result"
    }
   ],
   "source": [
    "Math(latex(a))"
   ]
  },
  {
   "cell_type": "code",
   "execution_count": 19,
   "metadata": {},
   "outputs": [
    {
     "data": {
      "text/latex": [
       "$\\displaystyle \\nabla^2u$"
      ],
      "text/plain": [
       "<IPython.core.display.Math object>"
      ]
     },
     "execution_count": 19,
     "metadata": {},
     "output_type": "execute_result"
    }
   ],
   "source": [
    "Math(latex(laplace(u)))"
   ]
  },
  {
   "cell_type": "code",
   "execution_count": 20,
   "metadata": {},
   "outputs": [
    {
     "data": {
      "text/latex": [
       "$\\displaystyle \\mathrm{hess}( u )$"
      ],
      "text/plain": [
       "<IPython.core.display.Math object>"
      ]
     },
     "execution_count": 20,
     "metadata": {},
     "output_type": "execute_result"
    }
   ],
   "source": [
    "Math(latex(hessian(u)))"
   ]
  },
  {
   "cell_type": "code",
   "execution_count": 21,
   "metadata": {},
   "outputs": [
    {
     "data": {
      "text/latex": [
       "$\\displaystyle u \\ast v$"
      ],
      "text/plain": [
       "<IPython.core.display.Math object>"
      ]
     },
     "execution_count": 21,
     "metadata": {},
     "output_type": "execute_result"
    }
   ],
   "source": [
    "Math(latex(conv(u, v)))"
   ]
  },
  {
   "cell_type": "code",
   "execution_count": 22,
   "metadata": {},
   "outputs": [],
   "source": [
    "W = VectorFunctionSpace('W', domain)"
   ]
  },
  {
   "cell_type": "code",
   "execution_count": 23,
   "metadata": {},
   "outputs": [],
   "source": [
    "w = element_of(W, name='w')"
   ]
  },
  {
   "cell_type": "code",
   "execution_count": 24,
   "metadata": {},
   "outputs": [
    {
     "data": {
      "text/latex": [
       "$\\displaystyle \\mathrm{D}\\left( \\mathbf{w} \\right)$"
      ],
      "text/plain": [
       "<IPython.core.display.Math object>"
      ]
     },
     "execution_count": 24,
     "metadata": {},
     "output_type": "execute_result"
    }
   ],
   "source": [
    "Math(latex(D(w)))"
   ]
  },
  {
   "cell_type": "code",
   "execution_count": 25,
   "metadata": {},
   "outputs": [],
   "source": [
    "l = LinearForm(v, integral(domain.boundary, cos(x+y)*v))"
   ]
  },
  {
   "cell_type": "code",
   "execution_count": 26,
   "metadata": {},
   "outputs": [
    {
     "data": {
      "text/latex": [
       "$\\displaystyle v \\mapsto \\int_{\\Gamma_1} v \\cos{\\left (x + y \\right )} ~ds + \\int_{\\Gamma_2} v \\cos{\\left (x + y \\right )} ~ds + \\int_{\\Gamma_3} v \\cos{\\left (x + y \\right )} ~ds + \\int_{\\Gamma_4} v \\cos{\\left (x + y \\right )} ~ds$"
      ],
      "text/plain": [
       "<IPython.core.display.Math object>"
      ]
     },
     "execution_count": 26,
     "metadata": {},
     "output_type": "execute_result"
    }
   ],
   "source": [
    "Math(latex(l))"
   ]
  },
  {
   "cell_type": "code",
   "execution_count": 27,
   "metadata": {},
   "outputs": [],
   "source": [
    "equation = find(u, forall=v, lhs=a(u,v), rhs=l(v))"
   ]
  },
  {
   "cell_type": "code",
   "execution_count": 28,
   "metadata": {},
   "outputs": [
    {
     "data": {
      "text/latex": [
       "$\\displaystyle \\mbox{find} ~u \\in V ~\\mbox{such that}\\\\\\int_{\\Omega} - \\{ v \\} [\\![ u ]\\!] ~d\\mathbf{x} + \\int_{\\Omega} \\{ u \\} [\\![ v ]\\!] ~d\\mathbf{x} + \\int_{\\Omega} \\nabla{u} \\cdot \\nabla{v} ~d\\mathbf{x} = \\int_{\\Gamma_1} \\left ( v\\right ) \\cos{\\left (x + y \\right )} ~ds + \\int_{\\Gamma_2} \\left ( v\\right ) \\cos{\\left (x + y \\right )} ~ds + \\int_{\\Gamma_3} \\left ( v\\right ) \\cos{\\left (x + y \\right )} ~ds + \\int_{\\Gamma_4} \\left ( v\\right ) \\cos{\\left (x + y \\right )} ~ds,\\quad \\forall~ v \\in V$"
      ],
      "text/plain": [
       "<IPython.core.display.Math object>"
      ]
     },
     "execution_count": 28,
     "metadata": {},
     "output_type": "execute_result"
    }
   ],
   "source": [
    "Math(latex(equation))"
   ]
  },
  {
   "cell_type": "markdown",
   "metadata": {},
   "source": [
    "### Multiple domains"
   ]
  },
  {
   "cell_type": "code",
   "execution_count": 29,
   "metadata": {},
   "outputs": [],
   "source": [
    "A = Square(r'A')\n",
    "B = Square(r'B')\n",
    "\n",
    "domain = A.join(B, name = 'Omega',\n",
    "            bnd_minus = A.get_boundary(axis=0, ext=1),\n",
    "            bnd_plus  = B.get_boundary(axis=0, ext=-1))\n",
    "\n",
    "I = domain.interfaces"
   ]
  },
  {
   "cell_type": "code",
   "execution_count": 30,
   "metadata": {},
   "outputs": [],
   "source": [
    "V = ScalarFunctionSpace('V', domain, kind=None)"
   ]
  },
  {
   "cell_type": "code",
   "execution_count": 31,
   "metadata": {},
   "outputs": [],
   "source": [
    "u, v = elements_of(V, names='u, v')"
   ]
  },
  {
   "cell_type": "code",
   "execution_count": 32,
   "metadata": {},
   "outputs": [],
   "source": [
    "# Nitsch\n",
    "kappa = Constant('kappa')\n",
    "expr_I = ( - jump(u) * jump(Dn(v))\n",
    "           + kappa * jump(u) * jump(v)\n",
    "           + plus(Dn(u)) * minus(v)\n",
    "           + minus(Dn(u)) * plus(v) )\n",
    "a = BilinearForm((u,v), integral(domain, dot(grad(u),grad(v)))\n",
    "                      + integral(I,      expr_I))"
   ]
  },
  {
   "cell_type": "code",
   "execution_count": 33,
   "metadata": {},
   "outputs": [
    {
     "data": {
      "text/latex": [
       "$\\displaystyle \\left( u, v \\right) \\mapsto \\int_{\\Omega} \\nabla{u} \\cdot \\nabla{v} ~d\\mathbf{x} + \\int_{A|B} - [\\![ u ]\\!] [\\![ \\nabla v \\cdot \\mathbf{n} ]\\!] ~ds + \\int_{A|B} \\left(\\nabla{u_{-}} \\cdot \\mathbf{n}_{-}\\right) v_{+} ~ds + \\int_{A|B} \\left(\\nabla{u_{+}} \\cdot \\mathbf{n}_{+}\\right) v_{-} ~ds + \\int_{A|B} \\kappa [\\![ u ]\\!] [\\![ v ]\\!] ~ds$"
      ],
      "text/plain": [
       "<IPython.core.display.Math object>"
      ]
     },
     "execution_count": 33,
     "metadata": {},
     "output_type": "execute_result"
    }
   ],
   "source": [
    "Math(latex(a))"
   ]
  },
  {
   "cell_type": "code",
   "execution_count": 34,
   "metadata": {},
   "outputs": [],
   "source": [
    "expr = TerminalExpr(a)"
   ]
  },
  {
   "cell_type": "code",
   "execution_count": 35,
   "metadata": {},
   "outputs": [
    {
     "data": {
      "text/latex": [
       "$\\displaystyle \\textbf{target}~A|B\\\\- \\kappa u_{-} v_{+} + \\left(\\nabla{v_{+}} \\cdot \\mathbf{n}_{+}\\right) u_{-}\\\\\\textbf{target}~A|B\\\\- \\kappa v_{-} u_{+} + \\left(\\nabla{v_{-}} \\cdot \\mathbf{n}_{-}\\right) u_{+}\\\\\\textbf{target}~\\Gamma_2\\\\\\kappa u v - u \\left(\\nabla{v} \\cdot \\mathbf{n}_{-}\\right)\\\\\\textbf{target}~\\Gamma_1\\\\\\kappa u v - u \\left(\\nabla{v} \\cdot \\mathbf{n}_{+}\\right)\\\\\\textbf{target}~A\\\\\\partial_x u_{A} \\partial_x v_{A} + \\partial_y u_{A} \\partial_y v_{A}\\\\\\textbf{target}~B\\\\\\partial_x u_{B} \\partial_x v_{B} + \\partial_y u_{B} \\partial_y v_{B}$"
      ],
      "text/plain": [
       "<IPython.core.display.Math object>"
      ]
     },
     "execution_count": 35,
     "metadata": {},
     "output_type": "execute_result"
    }
   ],
   "source": [
    "code = r'\\\\'.join(latex(e) for e in expr)\n",
    "Math(code)\n",
    "#print(code)"
   ]
  },
  {
   "cell_type": "code",
   "execution_count": null,
   "metadata": {},
   "outputs": [],
   "source": []
  }
 ],
 "metadata": {
  "kernelspec": {
   "display_name": "Python 3",
   "language": "python",
   "name": "python3"
  },
  "language_info": {
   "codemirror_mode": {
    "name": "ipython",
    "version": 3
   },
   "file_extension": ".py",
   "mimetype": "text/x-python",
   "name": "python",
   "nbconvert_exporter": "python",
   "pygments_lexer": "ipython3",
   "version": "3.6.8"
  }
 },
 "nbformat": 4,
 "nbformat_minor": 2
}
